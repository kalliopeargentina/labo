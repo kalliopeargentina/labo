{
 "cells": [
  {
   "cell_type": "markdown",
   "metadata": {},
   "source": [
    "# Zero to Hero"
   ]
  },
  {
   "cell_type": "markdown",
   "metadata": {},
   "source": [
    "## 2.01 Optimizacion Bayesiana"
   ]
  },
  {
   "cell_type": "raw",
   "metadata": {},
   "source": [
    "El objetivo es mostrar como funciona la Optimizacion Bayesiana en el caso mas simple : una funcion univariada"
   ]
  },
  {
   "cell_type": "markdown",
   "metadata": {},
   "source": [
    "El uso del método de Optimización Bayesiana para la optimización de hiperparámetros en modelos predictivos tiene menos de una década.\n",
    "Entender los fundamentos de la O.B. requieren de una sólida formación matemática y **no** son el objetivo de esta asignatura.\n",
    "Para quienes deseen aventurarse a los detalles técnicos:\n",
    "* El paper original de la libreria mlrMBO (año 2018 )   https://arxiv.org/pdf/1703.03373.pdf\n",
    "* El método de Kriging , tal cual se deriva del uso original, en este pequeño libro de 106 páginas \"Basic Steps in Geostatistics: The Variogram and Kriging\" https://www.pdfdrive.com/basic-steps-in-geostatistics-the-variogram-and-kriging-e187336318.html"
   ]
  },
  {
   "cell_type": "markdown",
   "metadata": {},
   "source": [
    "### Advertencia"
   ]
  },
  {
   "cell_type": "markdown",
   "metadata": {},
   "source": [
    "### El código"
   ]
  },
  {
   "cell_type": "code",
   "execution_count": 12,
   "metadata": {
    "tags": [],
    "vscode": {
     "languageId": "r"
    }
   },
   "outputs": [
    {
     "data": {
      "text/html": [
       "<table class=\"dataframe\">\n",
       "<caption>A matrix: 2 × 6 of type dbl</caption>\n",
       "<thead>\n",
       "\t<tr><th></th><th scope=col>used</th><th scope=col>(Mb)</th><th scope=col>gc trigger</th><th scope=col>(Mb)</th><th scope=col>max used</th><th scope=col>(Mb)</th></tr>\n",
       "</thead>\n",
       "<tbody>\n",
       "\t<tr><th scope=row>Ncells</th><td>2134475</td><td>114.0</td><td>3997768</td><td>213.6</td><td>2882152</td><td>154</td></tr>\n",
       "\t<tr><th scope=row>Vcells</th><td>3699102</td><td> 28.3</td><td>8388608</td><td> 64.0</td><td>7992138</td><td> 61</td></tr>\n",
       "</tbody>\n",
       "</table>\n"
      ],
      "text/latex": [
       "A matrix: 2 × 6 of type dbl\n",
       "\\begin{tabular}{r|llllll}\n",
       "  & used & (Mb) & gc trigger & (Mb) & max used & (Mb)\\\\\n",
       "\\hline\n",
       "\tNcells & 2134475 & 114.0 & 3997768 & 213.6 & 2882152 & 154\\\\\n",
       "\tVcells & 3699102 &  28.3 & 8388608 &  64.0 & 7992138 &  61\\\\\n",
       "\\end{tabular}\n"
      ],
      "text/markdown": [
       "\n",
       "A matrix: 2 × 6 of type dbl\n",
       "\n",
       "| <!--/--> | used | (Mb) | gc trigger | (Mb) | max used | (Mb) |\n",
       "|---|---|---|---|---|---|---|\n",
       "| Ncells | 2134475 | 114.0 | 3997768 | 213.6 | 2882152 | 154 |\n",
       "| Vcells | 3699102 |  28.3 | 8388608 |  64.0 | 7992138 |  61 |\n",
       "\n"
      ],
      "text/plain": [
       "       used    (Mb)  gc trigger (Mb)  max used (Mb)\n",
       "Ncells 2134475 114.0 3997768    213.6 2882152  154 \n",
       "Vcells 3699102  28.3 8388608     64.0 7992138   61 "
      ]
     },
     "metadata": {},
     "output_type": "display_data"
    },
    {
     "name": "stderr",
     "output_type": "stream",
     "text": [
      "Installing package into 'C:/Users/marco/AppData/Local/R/win-library/4.2'\n",
      "(as 'lib' is unspecified)\n",
      "\n"
     ]
    },
    {
     "name": "stdout",
     "output_type": "stream",
     "text": [
      "package 'DiceKriging' successfully unpacked and MD5 sums checked\n",
      "\n",
      "The downloaded binary packages are in\n",
      "\tC:\\Users\\marco\\AppData\\Local\\Temp\\RtmpqYMdpr\\downloaded_packages\n"
     ]
    },
    {
     "name": "stderr",
     "output_type": "stream",
     "text": [
      "Loading required package: DiceKriging\n",
      "\n",
      "Warning message:\n",
      "\"package 'DiceKriging' was built under R version 4.2.3\"\n",
      "\n",
      "Attaching package: 'DiceKriging'\n",
      "\n",
      "\n",
      "The following object is masked from 'package:checkmate':\n",
      "\n",
      "    checkNames\n",
      "\n",
      "\n"
     ]
    }
   ],
   "source": [
    "#Ejemplo de optimizacion bayesiana, univariada\n",
    "\n",
    "#limpio la memoria\n",
    "rm( list=ls() )  #remove all objects\n",
    "gc()             #garbage collection\n",
    "\n",
    "require(\"data.table\")\n",
    "require(\"smoof\")\n",
    "#paquetes necesarios para la Bayesian Optimization\n",
    "require(\"DiceKriging\")\n",
    "require(\"mlrMBO\")\n",
    "\n",
    "options(repr.plot.width=20, repr.plot.height=10)"
   ]
  },
  {
   "cell_type": "markdown",
   "metadata": {},
   "source": [
    "### Defino la funcion a optimizar, un polinomio de grado 4"
   ]
  },
  {
   "cell_type": "code",
   "execution_count": 13,
   "metadata": {
    "tags": [],
    "vscode": {
     "languageId": "r"
    }
   },
   "outputs": [],
   "source": [
    "func_univariada01  <- function( x )\n",
    "{\n",
    "  y  <- -2 * (x+13) * (x-3) * (x-7) * (x-19)\n",
    "\n",
    "  return( y )\n",
    "}"
   ]
  },
  {
   "cell_type": "markdown",
   "metadata": {},
   "source": [
    "Grafico la funcion"
   ]
  },
  {
   "cell_type": "code",
   "execution_count": 7,
   "metadata": {
    "tags": [],
    "vscode": {
     "languageId": "r"
    }
   },
   "outputs": [
    {
     "data": {
      "image/png": "[encoded data removed]",
      "text/plain": [
       "plot without title"
      ]
     },
     "metadata": {
      "image/png": {
       "height": 600,
       "width": 1200
      }
     },
     "output_type": "display_data"
    }
   ],
   "source": [
    "intervalo  <- seq(-15,21,0.1)\n",
    "plot(intervalo, func_univariada01(intervalo))"
   ]
  },
  {
   "cell_type": "markdown",
   "metadata": {},
   "source": [
    "La funcion tiene dos máximos, uno de ellos es el global."
   ]
  },
  {
   "cell_type": "markdown",
   "metadata": {},
   "source": [
    "### Optimizacion Bayesiana"
   ]
  },
  {
   "cell_type": "markdown",
   "metadata": {},
   "source": [
    "¿Qué tan rápido encontrará la Optmización Bayesiana el máximo global?"
   ]
  },
  {
   "cell_type": "markdown",
   "metadata": {},
   "source": [
    "Defino las caracteristicas de la optimizacion"
   ]
  },
  {
   "cell_type": "markdown",
   "metadata": {},
   "source": [
    "* **fn**    es el nombre de la funcion\n",
    "* **minimize**   por defecto es TRUE,  pero en este caso le asigno FALSE, ya que deseo maximizar  el valor\n",
    "* **par.set**  indica cuales son los hiperparmetros de la funcion, en este caso hay una sola variable que llamé  x\n",
    "---\n",
    "* **makeNumericParam** indica que ese hiperparámetro es un numero real, una variable continua  ( no es ni un entero ni una categoria )"
   ]
  },
  {
   "cell_type": "code",
   "execution_count": 14,
   "metadata": {
    "tags": [],
    "vscode": {
     "languageId": "r"
    }
   },
   "outputs": [],
   "source": [
    "obj.fun  <- makeSingleObjectiveFunction(\n",
    "              fn=       func_univariada01,\n",
    "              minimize= FALSE,   #estoy Maximizando la ganancia\n",
    "              par.set=  makeParamSet(  makeNumericParam( \"x\", lower= -100, upper=  100) ),\n",
    "             )"
   ]
  },
  {
   "cell_type": "markdown",
   "metadata": {},
   "source": [
    "ahora defino la funcion proxy, la que se construye internamente intentando emular la realidad"
   ]
  },
  {
   "cell_type": "markdown",
   "metadata": {},
   "source": [
    "* **cl**  es la clase de learner,  \"reg.km\" indica el método de kriging \"**reg**ression **k**riging **m**ethodd\"\n",
    "* **predict.type**  es el tipo de prediccion que deseo me devuelva, \"se\" significa que espero dos valores  media y standard error\n",
    "* **covtype**    es la funcion de covarianza que se va a utilizar, cual es la covarianza de dos mediciones como fucion de la distancia entre los puntos donde fueron tomadas las mediciones, fue inventada por Bertil Matérn "
   ]
  },
  {
   "cell_type": "markdown",
   "metadata": {},
   "source": [
    "El método de kriging puede verse en su forma original (la geología) , esta presentación https://www.youtube.com/watch?v=ZB7GvJrNKq0"
   ]
  },
  {
   "cell_type": "code",
   "execution_count": 15,
   "metadata": {
    "tags": [],
    "vscode": {
     "languageId": "r"
    }
   },
   "outputs": [],
   "source": [
    "fproxy  <- makeLearner( cl= \"regr.km\",\n",
    "                        predict.type= \"se\", \n",
    "                        covtype= \"matern3_2\" )"
   ]
  },
  {
   "cell_type": "markdown",
   "metadata": {},
   "source": [
    "ultima definicion,  especificar la optimizacion bayesiana\n",
    "*  **crit**   indica el criterio con el que se completan los valores iniciales \"no inteligentes\"\n",
    "*  **iters**  indica la cantidad de iteraciones inteligentes que hará la Optimizacion Bayesiana, las que son adicionales a las primeras cuatro de este caso.*  **iters**  indica la cantidad de iteraciones inteligentes que hará la Optimizacion Bayesiana, las que son adicionales a las primeras cuatro de este caso."
   ]
  },
  {
   "cell_type": "code",
   "execution_count": 16,
   "metadata": {
    "tags": [],
    "vscode": {
     "languageId": "r"
    }
   },
   "outputs": [],
   "source": [
    "ctrl  <- makeMBOControl()\n",
    "ctrl  <- setMBOControlInfill( ctrl, crit= makeMBOInfillCritEI())\n",
    "ctrl  <- setMBOControlTermination( ctrl, iters= 25 )"
   ]
  },
  {
   "cell_type": "markdown",
   "metadata": {},
   "source": [
    "finalmente , lanzo la Optimizacion Bayesiana"
   ]
  },
  {
   "cell_type": "markdown",
   "metadata": {},
   "source": [
    "* **fun**  es la especificacion de la funcion que deseo optimizar, si maximizo o minimizo, cuales son las variables de la misma\n",
    "* **learner**  especifica cual es la función proxy interna que va a utilizar la Optimziación Bayesiana\n",
    "* **control**  indica la la forma en que se harán las iteraciones"
   ]
  },
  {
   "cell_type": "code",
   "execution_count": 17,
   "metadata": {
    "tags": [],
    "vscode": {
     "languageId": "r"
    }
   },
   "outputs": [
    {
     "name": "stderr",
     "output_type": "stream",
     "text": [
      "Computing y column(s) for design. Not provided.\n",
      "\n",
      "[mbo] 0: x=34.6 : y = -1.29e+06 : 0.0 secs : initdesign\n",
      "\n",
      "[mbo] 0: x=-13.3 : y = -5.51e+03 : 0.0 secs : initdesign\n",
      "\n",
      "[mbo] 0: x=69.5 : y = -3.46e+07 : 0.0 secs : initdesign\n",
      "\n",
      "[mbo] 0: x=-62.4 : y = -3.65e+07 : 0.0 secs : initdesign\n",
      "\n"
     ]
    },
    {
     "name": "stdout",
     "output_type": "stream",
     "text": [
      "\n",
      "optimisation start\n",
      "------------------\n",
      "* estimation method   : MLE \n",
      "* optimisation method : BFGS \n",
      "* analytical gradient : used\n",
      "* trend model : ~1\n",
      "* covariance model : \n",
      "  - type :  matern3_2 \n",
      "  - nugget : NO\n",
      "  - parameters lower bounds :  1e-10 \n",
      "  - parameters upper bounds :  263.7778 \n",
      "  - best initial criterion value(s) :  -72.59869 \n",
      "\n",
      "N = 1, M = 5 machine precision = 2.22045e-16\n",
      "At X0, 0 variables are exactly at the bounds\n",
      "At iterate     0  f=       72.599  |proj g|=     0.020889\n",
      "At iterate     1  f =       72.598  |proj g|=      0.020889\n",
      "ys=-3.612e-09  -gs= 4.363e-04, BFGS update SKIPPED\n",
      "At iterate     2  f =       72.457  |proj g|=        0.0172\n",
      "At iterate     3  f =        72.38  |proj g|=             0\n",
      "\n",
      "iterations 3\n",
      "function evaluations 8\n",
      "segments explored during Cauchy searches 3\n",
      "BFGS updates skipped 1\n",
      "active bounds at final generalized Cauchy point 1\n",
      "norm of the final projected gradient 0\n",
      "final function value 72.3802\n",
      "\n",
      "F = 72.3802\n",
      "final  value 72.380195 \n",
      "converged\n"
     ]
    },
    {
     "name": "stderr",
     "output_type": "stream",
     "text": [
      "[mbo] 1: x=-23.9 : y = -7.81e+05 : 0.0 secs : infill_ei\n",
      "\n"
     ]
    },
    {
     "name": "stdout",
     "output_type": "stream",
     "text": [
      "\n",
      "optimisation start\n",
      "------------------\n",
      "* estimation method   : MLE \n",
      "* optimisation method : BFGS \n",
      "* analytical gradient : used\n",
      "* trend model : ~1\n",
      "* covariance model : \n",
      "  - type :  matern3_2 \n",
      "  - nugget : NO\n",
      "  - parameters lower bounds :  1e-10 \n",
      "  - parameters upper bounds :  263.7778 \n",
      "  - best initial criterion value(s) :  -90.18094 \n",
      "\n",
      "N = 1, M = 5 machine precision = 2.22045e-16\n",
      "At X0, 0 variables are exactly at the bounds\n",
      "At iterate     0  f=       90.181  |proj g|=     0.056553\n",
      "At iterate     1  f =       90.178  |proj g|=      0.056495\n",
      "At iterate     2  f =       89.874  |proj g|=     0.0077554\n",
      "At iterate     3  f =        89.86  |proj g|=     0.0051068\n",
      "At iterate     4  f =       89.853  |proj g|=     0.0026508\n",
      "At iterate     5  f =       89.852  |proj g|=    0.00051949\n",
      "At iterate     6  f =       89.852  |proj g|=    4.3929e-05\n",
      "At iterate     7  f =       89.852  |proj g|=     8.069e-07\n",
      "At iterate     8  f =       89.852  |proj g|=    1.2277e-09\n",
      "\n",
      "iterations 8\n",
      "function evaluations 10\n",
      "segments explored during Cauchy searches 8\n",
      "BFGS updates skipped 0\n",
      "active bounds at final generalized Cauchy point 0\n",
      "norm of the final projected gradient 1.22768e-09\n",
      "final function value 89.8518\n",
      "\n",
      "F = 89.8518\n",
      "final  value 89.851790 \n",
      "converged\n"
     ]
    },
    {
     "name": "stderr",
     "output_type": "stream",
     "text": [
      "[mbo] 2: x=17.3 : y = 1.53e+04 : 0.0 secs : infill_ei\n",
      "\n"
     ]
    },
    {
     "name": "stdout",
     "output_type": "stream",
     "text": [
      "\n",
      "optimisation start\n",
      "------------------\n",
      "* estimation method   : MLE \n",
      "* optimisation method : BFGS \n",
      "* analytical gradient : used\n",
      "* trend model : ~1\n",
      "* covariance model : \n",
      "  - type :  matern3_2 \n",
      "  - nugget : NO\n",
      "  - parameters lower bounds :  1e-10 \n",
      "  - parameters upper bounds :  263.7778 \n",
      "  - best initial criterion value(s) :  -106.9843 \n",
      "\n",
      "N = 1, M = 5 machine precision = 2.22045e-16\n",
      "At X0, 0 variables are exactly at the bounds\n",
      "At iterate     0  f=       106.98  |proj g|=     0.002672\n",
      "At iterate     1  f =       106.98  |proj g|=     0.0026698\n",
      "At iterate     2  f =       106.98  |proj g|=    0.00039317\n",
      "At iterate     3  f =       106.98  |proj g|=    4.7703e-05\n",
      "At iterate     4  f =       106.98  |proj g|=    7.3566e-07\n",
      "At iterate     5  f =       106.98  |proj g|=    1.4046e-09\n",
      "\n",
      "iterations 5\n",
      "function evaluations 6\n",
      "segments explored during Cauchy searches 5\n",
      "BFGS updates skipped 0\n",
      "active bounds at final generalized Cauchy point 0\n",
      "norm of the final projected gradient 1.40457e-09\n",
      "final function value 106.98\n",
      "\n",
      "F = 106.98\n",
      "final  value 106.980430 \n",
      "converged\n"
     ]
    },
    {
     "name": "stderr",
     "output_type": "stream",
     "text": [
      "[mbo] 3: x=2.24 : y = 1.84e+03 : 0.0 secs : infill_ei\n",
      "\n"
     ]
    },
    {
     "name": "stdout",
     "output_type": "stream",
     "text": [
      "\n",
      "optimisation start\n",
      "------------------\n",
      "* estimation method   : MLE \n",
      "* optimisation method : BFGS \n",
      "* analytical gradient : used\n",
      "* trend model : ~1\n",
      "* covariance model : \n",
      "  - type :  matern3_2 \n",
      "  - nugget : NO\n",
      "  - parameters lower bounds :  1e-10 \n",
      "  - parameters upper bounds :  263.7778 \n",
      "  - best initial criterion value(s) :  -123.2057 \n",
      "\n",
      "N = 1, M = 5 machine precision = 2.22045e-16\n",
      "At X0, 0 variables are exactly at the bounds\n",
      "At iterate     0  f=       123.21  |proj g|=   4.3048e-05\n",
      "At iterate     1  f =       123.21  |proj g|=    4.3027e-05\n",
      "\n",
      "iterations 1\n",
      "function evaluations 2\n",
      "segments explored during Cauchy searches 1\n",
      "BFGS updates skipped 0\n",
      "active bounds at final generalized Cauchy point 0\n",
      "norm of the final projected gradient 4.30271e-05\n",
      "final function value 123.206\n",
      "\n",
      "F = 123.206\n",
      "final  value 123.205736 \n",
      "converged\n"
     ]
    },
    {
     "name": "stderr",
     "output_type": "stream",
     "text": [
      "[mbo] 4: x=25.8 : y = -2.29e+05 : 0.0 secs : infill_ei\n",
      "\n"
     ]
    },
    {
     "name": "stdout",
     "output_type": "stream",
     "text": [
      "\n",
      "optimisation start\n",
      "------------------\n",
      "* estimation method   : MLE \n",
      "* optimisation method : BFGS \n",
      "* analytical gradient : used\n",
      "* trend model : ~1\n",
      "* covariance model : \n",
      "  - type :  matern3_2 \n",
      "  - nugget : NO\n",
      "  - parameters lower bounds :  1e-10 \n",
      "  - parameters upper bounds :  263.7778 \n",
      "  - best initial criterion value(s) :  -138.4962 \n",
      "\n",
      "N = 1, M = 5 machine precision = 2.22045e-16\n",
      "At X0, 0 variables are exactly at the bounds\n",
      "At iterate     0  f=        138.5  |proj g|=   2.4405e-05\n",
      "At iterate     1  f =        138.5  |proj g|=    2.4398e-05\n",
      "\n",
      "iterations 1\n",
      "function evaluations 2\n",
      "segments explored during Cauchy searches 1\n",
      "BFGS updates skipped 0\n",
      "active bounds at final generalized Cauchy point 0\n",
      "norm of the final projected gradient 2.43984e-05\n",
      "final function value 138.496\n",
      "\n",
      "F = 138.496\n",
      "final  value 138.496234 \n",
      "converged\n"
     ]
    },
    {
     "name": "stderr",
     "output_type": "stream",
     "text": [
      "[mbo] 5: x=9.67 : y = 7.54e+03 : 0.0 secs : infill_ei\n",
      "\n"
     ]
    },
    {
     "name": "stdout",
     "output_type": "stream",
     "text": [
      "\n",
      "optimisation start\n",
      "------------------\n",
      "* estimation method   : MLE \n",
      "* optimisation method : BFGS \n",
      "* analytical gradient : used\n",
      "* trend model : ~1\n",
      "* covariance model : \n",
      "  - type :  matern3_2 \n",
      "  - nugget : NO\n",
      "  - parameters lower bounds :  1e-10 \n",
      "  - parameters upper bounds :  263.7778 \n",
      "  - best initial criterion value(s) :  -153.2192 \n",
      "\n",
      "N = 1, M = 5 machine precision = 2.22045e-16\n",
      "At X0, 0 variables are exactly at the bounds\n",
      "At iterate     0  f=       153.22  |proj g|=   0.00056575\n",
      "At iterate     1  f =       153.22  |proj g|=    0.00056564\n",
      "\n",
      "iterations 1\n",
      "function evaluations 2\n",
      "segments explored during Cauchy searches 1\n",
      "BFGS updates skipped 0\n",
      "active bounds at final generalized Cauchy point 0\n",
      "norm of the final projected gradient 0.000565638\n",
      "final function value 153.219\n",
      "\n",
      "F = 153.219\n",
      "final  value 153.219173 \n",
      "converged\n"
     ]
    },
    {
     "name": "stderr",
     "output_type": "stream",
     "text": [
      "[mbo] 6: x=-5.47 : y = 3.89e+04 : 0.0 secs : infill_ei\n",
      "\n"
     ]
    },
    {
     "name": "stdout",
     "output_type": "stream",
     "text": [
      "\n",
      "optimisation start\n",
      "------------------\n",
      "* estimation method   : MLE \n",
      "* optimisation method : BFGS \n",
      "* analytical gradient : used\n",
      "* trend model : ~1\n",
      "* covariance model : \n",
      "  - type :  matern3_2 \n",
      "  - nugget : NO\n",
      "  - parameters lower bounds :  1e-10 \n",
      "  - parameters upper bounds :  263.7778 \n",
      "  - best initial criterion value(s) :  -167.8034 \n",
      "\n",
      "N = 1, M = 5 machine precision = 2.22045e-16\n",
      "At X0, 0 variables are exactly at the bounds\n",
      "At iterate     0  f=        167.8  |proj g|=   0.00073185\n",
      "At iterate     1  f =        167.8  |proj g|=    0.00073178\n",
      "At iterate     2  f =        167.8  |proj g|=    9.0712e-05\n",
      "At iterate     3  f =        167.8  |proj g|=    9.5983e-06\n",
      "At iterate     4  f =        167.8  |proj g|=    1.1106e-07\n",
      "At iterate     5  f =        167.8  |proj g|=    1.3799e-10\n",
      "\n",
      "iterations 5\n",
      "function evaluations 6\n",
      "segments explored during Cauchy searches 5\n",
      "BFGS updates skipped 0\n",
      "active bounds at final generalized Cauchy point 0\n",
      "norm of the final projected gradient 1.37989e-10\n",
      "final function value 167.801\n",
      "\n",
      "F = 167.801\n",
      "final  value 167.800786 \n",
      "converged\n"
     ]
    },
    {
     "name": "stderr",
     "output_type": "stream",
     "text": [
      "[mbo] 7: x=-18.1 : y = -1.99e+05 : 0.0 secs : infill_ei\n",
      "\n"
     ]
    },
    {
     "name": "stdout",
     "output_type": "stream",
     "text": [
      "\n",
      "optimisation start\n",
      "------------------\n",
      "* estimation method   : MLE \n",
      "* optimisation method : BFGS \n",
      "* analytical gradient : used\n",
      "* trend model : ~1\n",
      "* covariance model : \n",
      "  - type :  matern3_2 \n",
      "  - nugget : NO\n",
      "  - parameters lower bounds :  1e-10 \n",
      "  - parameters upper bounds :  263.7778 \n",
      "  - best initial criterion value(s) :  -181.9236 \n",
      "\n",
      "N = 1, M = 5 machine precision = 2.22045e-16\n",
      "At X0, 0 variables are exactly at the bounds\n",
      "At iterate     0  f=       181.92  |proj g|=    7.539e-05\n",
      "At iterate     1  f =       181.92  |proj g|=    7.5383e-05\n",
      "\n",
      "iterations 1\n",
      "function evaluations 2\n",
      "segments explored during Cauchy searches 1\n",
      "BFGS updates skipped 0\n",
      "active bounds at final generalized Cauchy point 0\n",
      "norm of the final projected gradient 7.53835e-05\n",
      "final function value 181.924\n",
      "\n",
      "F = 181.924\n",
      "final  value 181.923634 \n",
      "converged\n"
     ]
    },
    {
     "name": "stderr",
     "output_type": "stream",
     "text": [
      "[mbo] 8: x=-9.21 : y = 4.23e+04 : 0.0 secs : infill_ei\n",
      "\n"
     ]
    },
    {
     "name": "stdout",
     "output_type": "stream",
     "text": [
      "\n",
      "optimisation start\n",
      "------------------\n",
      "* estimation method   : MLE \n",
      "* optimisation method : BFGS \n",
      "* analytical gradient : used\n",
      "* trend model : ~1\n",
      "* covariance model : \n",
      "  - type :  matern3_2 \n",
      "  - nugget : NO\n",
      "  - parameters lower bounds :  1e-10 \n",
      "  - parameters upper bounds :  263.7778 \n",
      "  - best initial criterion value(s) :  -195.3224 \n",
      "\n",
      "N = 1, M = 5 machine precision = 2.22045e-16\n",
      "At X0, 0 variables are exactly at the bounds\n",
      "At iterate     0  f=       195.32  |proj g|=    0.0002776\n",
      "At iterate     1  f =       195.32  |proj g|=    0.00027758\n",
      "\n",
      "iterations 1\n",
      "function evaluations 2\n",
      "segments explored during Cauchy searches 1\n",
      "BFGS updates skipped 0\n",
      "active bounds at final generalized Cauchy point 0\n",
      "norm of the final projected gradient 0.000277584\n",
      "final function value 195.322\n",
      "\n",
      "F = 195.322\n",
      "final  value 195.322353 \n",
      "converged\n"
     ]
    },
    {
     "name": "stderr",
     "output_type": "stream",
     "text": [
      "[mbo] 9: x=13.6 : y = 2.01e+04 : 0.0 secs : infill_ei\n",
      "\n"
     ]
    },
    {
     "name": "stdout",
     "output_type": "stream",
     "text": [
      "\n",
      "optimisation start\n",
      "------------------\n",
      "* estimation method   : MLE \n",
      "* optimisation method : BFGS \n",
      "* analytical gradient : used\n",
      "* trend model : ~1\n",
      "* covariance model : \n",
      "  - type :  matern3_2 \n",
      "  - nugget : NO\n",
      "  - parameters lower bounds :  1e-10 \n",
      "  - parameters upper bounds :  263.7778 \n",
      "  - best initial criterion value(s) :  -208.654 \n",
      "\n",
      "N = 1, M = 5 machine precision = 2.22045e-16\n",
      "At X0, 0 variables are exactly at the bounds\n",
      "At iterate     0  f=       208.65  |proj g|=   0.00010821\n",
      "At iterate     1  f =       208.65  |proj g|=     0.0001082\n",
      "\n",
      "iterations 1\n",
      "function evaluations 2\n",
      "segments explored during Cauchy searches 1\n",
      "BFGS updates skipped 0\n",
      "active bounds at final generalized Cauchy point 0\n",
      "norm of the final projected gradient 0.000108204\n",
      "final function value 208.654\n",
      "\n",
      "F = 208.654\n",
      "final  value 208.653962 \n",
      "converged\n"
     ]
    },
    {
     "name": "stderr",
     "output_type": "stream",
     "text": [
      "[mbo] 10: x=-1.69 : y = 1.91e+04 : 0.0 secs : infill_ei\n",
      "\n"
     ]
    },
    {
     "name": "stdout",
     "output_type": "stream",
     "text": [
      "\n",
      "optimisation start\n",
      "------------------\n",
      "* estimation method   : MLE \n",
      "* optimisation method : BFGS \n",
      "* analytical gradient : used\n",
      "* trend model : ~1\n",
      "* covariance model : \n",
      "  - type :  matern3_2 \n",
      "  - nugget : NO\n",
      "  - parameters lower bounds :  1e-10 \n",
      "  - parameters upper bounds :  263.7778 \n",
      "  - best initial criterion value(s) :  -221.8645 \n",
      "\n",
      "N = 1, M = 5 machine precision = 2.22045e-16\n",
      "At X0, 0 variables are exactly at the bounds\n",
      "At iterate     0  f=       221.86  |proj g|=   6.0559e-05\n",
      "At iterate     1  f =       221.86  |proj g|=    6.0557e-05\n",
      "\n",
      "iterations 1\n",
      "function evaluations 2\n",
      "segments explored during Cauchy searches 1\n",
      "BFGS updates skipped 0\n",
      "active bounds at final generalized Cauchy point 0\n",
      "norm of the final projected gradient 6.05566e-05\n",
      "final function value 221.865\n",
      "\n",
      "F = 221.865\n",
      "final  value 221.864537 \n",
      "converged\n"
     ]
    },
    {
     "name": "stderr",
     "output_type": "stream",
     "text": [
      "[mbo] 11: x=5.99 : y = -1.49e+03 : 0.0 secs : infill_ei\n",
      "\n"
     ]
    },
    {
     "name": "stdout",
     "output_type": "stream",
     "text": [
      "\n",
      "optimisation start\n",
      "------------------\n",
      "* estimation method   : MLE \n",
      "* optimisation method : BFGS \n",
      "* analytical gradient : used\n",
      "* trend model : ~1\n",
      "* covariance model : \n",
      "  - type :  matern3_2 \n",
      "  - nugget : NO\n",
      "  - parameters lower bounds :  1e-10 \n",
      "  - parameters upper bounds :  263.7778 \n",
      "  - best initial criterion value(s) :  -234.9256 \n",
      "\n",
      "N = 1, M = 5 machine precision = 2.22045e-16\n",
      "At X0, 0 variables are exactly at the bounds\n",
      "At iterate     0  f=       234.93  |proj g|=   7.3457e-05\n",
      "At iterate     1  f =       234.93  |proj g|=    7.3454e-05\n",
      "\n",
      "iterations 1\n",
      "function evaluations 2\n",
      "segments explored during Cauchy searches 1\n",
      "BFGS updates skipped 0\n",
      "active bounds at final generalized Cauchy point 0\n",
      "norm of the final projected gradient 7.34542e-05\n",
      "final function value 234.926\n",
      "\n",
      "F = 234.926\n",
      "final  value 234.925553 \n",
      "converged\n"
     ]
    },
    {
     "name": "stderr",
     "output_type": "stream",
     "text": [
      "[mbo] 12: x=20.8 : y = -3e+04 : 0.0 secs : infill_ei\n",
      "\n"
     ]
    },
    {
     "name": "stdout",
     "output_type": "stream",
     "text": [
      "\n",
      "optimisation start\n",
      "------------------\n",
      "* estimation method   : MLE \n",
      "* optimisation method : BFGS \n",
      "* analytical gradient : used\n",
      "* trend model : ~1\n",
      "* covariance model : \n",
      "  - type :  matern3_2 \n",
      "  - nugget : NO\n",
      "  - parameters lower bounds :  1e-10 \n",
      "  - parameters upper bounds :  263.7778 \n",
      "  - best initial criterion value(s) :  -248.1482 \n",
      "\n",
      "N = 1, M = 5 machine precision = 2.22045e-16\n",
      "At X0, 0 variables are exactly at the bounds\n",
      "At iterate     0  f=       248.15  |proj g|=   3.0491e-05\n",
      "At iterate     1  f =       248.15  |proj g|=     3.049e-05\n",
      "\n",
      "iterations 1\n",
      "function evaluations 2\n",
      "segments explored during Cauchy searches 1\n",
      "BFGS updates skipped 0\n",
      "active bounds at final generalized Cauchy point 0\n",
      "norm of the final projected gradient 3.049e-05\n",
      "final function value 248.148\n",
      "\n",
      "F = 248.148\n",
      "final  value 248.148207 \n",
      "converged\n"
     ]
    },
    {
     "name": "stderr",
     "output_type": "stream",
     "text": [
      "[mbo] 13: x=-7.37 : y = 4.43e+04 : 0.0 secs : infill_ei\n",
      "\n"
     ]
    },
    {
     "name": "stdout",
     "output_type": "stream",
     "text": [
      "\n",
      "optimisation start\n",
      "------------------\n",
      "* estimation method   : MLE \n",
      "* optimisation method : BFGS \n",
      "* analytical gradient : used\n",
      "* trend model : ~1\n",
      "* covariance model : \n",
      "  - type :  matern3_2 \n",
      "  - nugget : NO\n",
      "  - parameters lower bounds :  1e-10 \n",
      "  - parameters upper bounds :  263.7778 \n",
      "  - best initial criterion value(s) :  -260.2098 \n",
      "\n",
      "N = 1, M = 5 machine precision = 2.22045e-16\n",
      "At X0, 0 variables are exactly at the bounds\n",
      "At iterate     0  f=       260.21  |proj g|=    0.0008309\n",
      "At iterate     1  f =       260.21  |proj g|=    0.00083087\n",
      "At iterate     2  f =       260.21  |proj g|=             0\n",
      "\n",
      "iterations 2\n",
      "function evaluations 3\n",
      "segments explored during Cauchy searches 2\n",
      "BFGS updates skipped 0\n",
      "active bounds at final generalized Cauchy point 1\n",
      "norm of the final projected gradient 0\n",
      "final function value 260.205\n",
      "\n",
      "F = 260.205\n",
      "final  value 260.205310 \n",
      "converged\n"
     ]
    },
    {
     "name": "stderr",
     "output_type": "stream",
     "text": [
      "[mbo] 14: x=-11.1 : y = 2.96e+04 : 0.0 secs : infill_ei\n",
      "\n"
     ]
    },
    {
     "name": "stdout",
     "output_type": "stream",
     "text": [
      "\n",
      "optimisation start\n",
      "------------------\n",
      "* estimation method   : MLE \n",
      "* optimisation method : BFGS \n",
      "* analytical gradient : used\n",
      "* trend model : ~1\n",
      "* covariance model : \n",
      "  - type :  matern3_2 \n",
      "  - nugget : NO\n",
      "  - parameters lower bounds :  1e-10 \n",
      "  - parameters upper bounds :  263.7778 \n",
      "  - best initial criterion value(s) :  -272.395 \n",
      "\n",
      "N = 1, M = 5 machine precision = 2.22045e-16\n",
      "At X0, 0 variables are exactly at the bounds\n",
      "At iterate     0  f=       272.39  |proj g|=    0.0040154\n",
      "At iterate     1  f =       272.39  |proj g|=     0.0040151\n",
      "At iterate     2  f =       272.27  |proj g|=             0\n",
      "\n",
      "iterations 2\n",
      "function evaluations 3\n",
      "segments explored during Cauchy searches 2\n",
      "BFGS updates skipped 0\n",
      "active bounds at final generalized Cauchy point 1\n",
      "norm of the final projected gradient 0\n",
      "final function value 272.272\n",
      "\n",
      "F = 272.272\n",
      "final  value 272.272308 \n",
      "converged\n"
     ]
    },
    {
     "name": "stderr",
     "output_type": "stream",
     "text": [
      "[mbo] 15: x=-3.67 : y = 3.01e+04 : 0.0 secs : infill_ei\n",
      "\n"
     ]
    },
    {
     "name": "stdout",
     "output_type": "stream",
     "text": [
      "\n",
      "optimisation start\n",
      "------------------\n",
      "* estimation method   : MLE \n",
      "* optimisation method : BFGS \n",
      "* analytical gradient : used\n",
      "* trend model : ~1\n",
      "* covariance model : \n",
      "  - type :  matern3_2 \n",
      "  - nugget : NO\n",
      "  - parameters lower bounds :  1e-10 \n",
      "  - parameters upper bounds :  263.7778 \n",
      "  - best initial criterion value(s) :  -284.2179 \n",
      "\n",
      "N = 1, M = 5 machine precision = 2.22045e-16\n",
      "At X0, 0 variables are exactly at the bounds\n",
      "At iterate     0  f=       284.22  |proj g|=    0.0019705\n",
      "At iterate     1  f =       284.22  |proj g|=     0.0019704\n",
      "At iterate     2  f =       284.21  |proj g|=             0\n",
      "\n",
      "iterations 2\n",
      "function evaluations 3\n",
      "segments explored during Cauchy searches 2\n",
      "BFGS updates skipped 0\n",
      "active bounds at final generalized Cauchy point 1\n",
      "norm of the final projected gradient 0\n",
      "final function value 284.215\n",
      "\n",
      "F = 284.215\n",
      "final  value 284.214961 \n",
      "converged\n"
     ]
    },
    {
     "name": "stderr",
     "output_type": "stream",
     "text": [
      "[mbo] 16: x=11.7 : y = 1.48e+04 : 0.0 secs : infill_ei\n",
      "\n"
     ]
    },
    {
     "name": "stdout",
     "output_type": "stream",
     "text": [
      "\n",
      "optimisation start\n",
      "------------------\n",
      "* estimation method   : MLE \n",
      "* optimisation method : BFGS \n",
      "* analytical gradient : used\n",
      "* trend model : ~1\n",
      "* covariance model : \n",
      "  - type :  matern3_2 \n",
      "  - nugget : NO\n",
      "  - parameters lower bounds :  1e-10 \n",
      "  - parameters upper bounds :  263.7778 \n",
      "  - best initial criterion value(s) :  -296.2379 \n",
      "\n",
      "N = 1, M = 5 machine precision = 2.22045e-16\n",
      "At X0, 0 variables are exactly at the bounds\n",
      "At iterate     0  f=       296.24  |proj g|=    0.0025593\n",
      "At iterate     1  f =       296.24  |proj g|=     0.0025591\n",
      "At iterate     2  f =       296.24  |proj g|=             0\n",
      "\n",
      "iterations 2\n",
      "function evaluations 3\n",
      "segments explored during Cauchy searches 2\n",
      "BFGS updates skipped 0\n",
      "active bounds at final generalized Cauchy point 1\n",
      "norm of the final projected gradient 0\n",
      "final function value 296.237\n",
      "\n",
      "F = 296.237\n",
      "final  value 296.237419 \n",
      "converged\n"
     ]
    },
    {
     "name": "stderr",
     "output_type": "stream",
     "text": [
      "[mbo] 17: x=15.5 : y = 2.12e+04 : 0.0 secs : infill_ei\n",
      "\n"
     ]
    },
    {
     "name": "stdout",
     "output_type": "stream",
     "text": [
      "\n",
      "optimisation start\n",
      "------------------\n",
      "* estimation method   : MLE \n",
      "* optimisation method : BFGS \n",
      "* analytical gradient : used\n",
      "* trend model : ~1\n",
      "* covariance model : \n",
      "  - type :  matern3_2 \n",
      "  - nugget : NO\n",
      "  - parameters lower bounds :  1e-10 \n",
      "  - parameters upper bounds :  263.7778 \n",
      "  - best initial criterion value(s) :  -308.1756 \n",
      "\n",
      "N = 1, M = 5 machine precision = 2.22045e-16\n",
      "At X0, 0 variables are exactly at the bounds\n",
      "At iterate     0  f=       308.18  |proj g|=       0.0045\n",
      "At iterate     1  f =       308.18  |proj g|=     0.0044996\n",
      "At iterate     2  f =       308.09  |proj g|=             0\n",
      "\n",
      "iterations 2\n",
      "function evaluations 3\n",
      "segments explored during Cauchy searches 2\n",
      "BFGS updates skipped 0\n",
      "active bounds at final generalized Cauchy point 1\n",
      "norm of the final projected gradient 0\n",
      "final function value 308.093\n",
      "\n",
      "F = 308.093\n",
      "final  value 308.093347 \n",
      "converged\n"
     ]
    },
    {
     "name": "stderr",
     "output_type": "stream",
     "text": [
      "[mbo] 18: x=0.227 : y = 9.33e+03 : 0.0 secs : infill_ei\n",
      "\n"
     ]
    },
    {
     "name": "stdout",
     "output_type": "stream",
     "text": [
      "\n",
      "optimisation start\n",
      "------------------\n",
      "* estimation method   : MLE \n",
      "* optimisation method : BFGS \n",
      "* analytical gradient : used\n",
      "* trend model : ~1\n",
      "* covariance model : \n",
      "  - type :  matern3_2 \n",
      "  - nugget : NO\n",
      "  - parameters lower bounds :  1e-10 \n",
      "  - parameters upper bounds :  263.7778 \n",
      "  - best initial criterion value(s) :  -320.2696 \n",
      "\n",
      "N = 1, M = 5 machine precision = 2.22045e-16\n",
      "At X0, 0 variables are exactly at the bounds\n",
      "At iterate     0  f=       320.27  |proj g|=    0.0074965\n",
      "At iterate     1  f =       320.27  |proj g|=     0.0074957\n",
      "At iterate     2  f =       320.02  |proj g|=             0\n",
      "\n",
      "iterations 2\n",
      "function evaluations 3\n",
      "segments explored during Cauchy searches 2\n",
      "BFGS updates skipped 0\n",
      "active bounds at final generalized Cauchy point 1\n",
      "norm of the final projected gradient 0\n",
      "final function value 320.018\n",
      "\n",
      "F = 320.018\n",
      "final  value 320.017850 \n",
      "converged\n"
     ]
    },
    {
     "name": "stderr",
     "output_type": "stream",
     "text": [
      "[mbo] 19: x=-8.27 : y = 4.44e+04 : 0.0 secs : infill_ei\n",
      "\n"
     ]
    },
    {
     "name": "stdout",
     "output_type": "stream",
     "text": [
      "\n",
      "optimisation start\n",
      "------------------\n",
      "* estimation method   : MLE \n",
      "* optimisation method : BFGS \n",
      "* analytical gradient : used\n",
      "* trend model : ~1\n",
      "* covariance model : \n",
      "  - type :  matern3_2 \n",
      "  - nugget : NO\n",
      "  - parameters lower bounds :  1e-10 \n",
      "  - parameters upper bounds :  263.7778 \n",
      "  - best initial criterion value(s) :  -330.8824 \n",
      "\n",
      "N = 1, M = 5 machine precision = 2.22045e-16\n",
      "At X0, 0 variables are exactly at the bounds\n",
      "At iterate     0  f=       330.88  |proj g|=    0.0049554\n",
      "At iterate     1  f =       330.88  |proj g|=     0.0049551\n",
      "At iterate     2  f =       330.85  |proj g|=             0\n",
      "\n",
      "iterations 2\n",
      "function evaluations 3\n",
      "segments explored during Cauchy searches 2\n",
      "BFGS updates skipped 0\n",
      "active bounds at final generalized Cauchy point 1\n",
      "norm of the final projected gradient 0\n",
      "final function value 330.848\n",
      "\n",
      "F = 330.848\n",
      "final  value 330.848064 \n",
      "converged\n"
     ]
    },
    {
     "name": "stderr",
     "output_type": "stream",
     "text": [
      "[mbo] 20: x=-6.46 : y = 4.24e+04 : 0.0 secs : infill_ei\n",
      "\n"
     ]
    },
    {
     "name": "stdout",
     "output_type": "stream",
     "text": [
      "\n",
      "optimisation start\n",
      "------------------\n",
      "* estimation method   : MLE \n",
      "* optimisation method : BFGS \n",
      "* analytical gradient : used\n",
      "* trend model : ~1\n",
      "* covariance model : \n",
      "  - type :  matern3_2 \n",
      "  - nugget : NO\n",
      "  - parameters lower bounds :  1e-10 \n",
      "  - parameters upper bounds :  263.7778 \n",
      "  - best initial criterion value(s) :  -341.6873 \n",
      "\n",
      "N = 1, M = 5 machine precision = 2.22045e-16\n",
      "At X0, 0 variables are exactly at the bounds\n",
      "At iterate     0  f=       341.69  |proj g|=    0.0057932\n",
      "At iterate     1  f =       341.69  |proj g|=     0.0057928\n",
      "At iterate     2  f =       341.64  |proj g|=             0\n",
      "\n",
      "iterations 2\n",
      "function evaluations 3\n",
      "segments explored during Cauchy searches 2\n",
      "BFGS updates skipped 0\n",
      "active bounds at final generalized Cauchy point 1\n",
      "norm of the final projected gradient 0\n",
      "final function value 341.636\n",
      "\n",
      "F = 341.636\n",
      "final  value 341.636083 \n",
      "converged\n"
     ]
    },
    {
     "name": "stderr",
     "output_type": "stream",
     "text": [
      "[mbo] 21: x=7.84 : y = 1.88e+03 : 0.0 secs : infill_ei\n",
      "\n"
     ]
    },
    {
     "name": "stdout",
     "output_type": "stream",
     "text": [
      "\n",
      "optimisation start\n",
      "------------------\n",
      "* estimation method   : MLE \n",
      "* optimisation method : BFGS \n",
      "* analytical gradient : used\n",
      "* trend model : ~1\n",
      "* covariance model : \n",
      "  - type :  matern3_2 \n",
      "  - nugget : NO\n",
      "  - parameters lower bounds :  1e-10 \n",
      "  - parameters upper bounds :  263.7778 \n",
      "  - best initial criterion value(s) :  -353.4628 \n",
      "\n",
      "N = 1, M = 5 machine precision = 2.22045e-16\n",
      "At X0, 0 variables are exactly at the bounds\n",
      "At iterate     0  f=       353.46  |proj g|=    0.0064522\n",
      "At iterate     1  f =       353.46  |proj g|=     0.0064516\n",
      "At iterate     2  f =       353.41  |proj g|=             0\n",
      "\n",
      "iterations 2\n",
      "function evaluations 3\n",
      "segments explored during Cauchy searches 2\n",
      "BFGS updates skipped 0\n",
      "active bounds at final generalized Cauchy point 1\n",
      "norm of the final projected gradient 0\n",
      "final function value 353.408\n",
      "\n",
      "F = 353.408\n",
      "final  value 353.408046 \n",
      "converged\n"
     ]
    },
    {
     "name": "stderr",
     "output_type": "stream",
     "text": [
      "[mbo] 22: x=18.9 : y = 1.19e+03 : 0.0 secs : infill_ei\n",
      "\n"
     ]
    },
    {
     "name": "stdout",
     "output_type": "stream",
     "text": [
      "\n",
      "optimisation start\n",
      "------------------\n",
      "* estimation method   : MLE \n",
      "* optimisation method : BFGS \n",
      "* analytical gradient : used\n",
      "* trend model : ~1\n",
      "* covariance model : \n",
      "  - type :  matern3_2 \n",
      "  - nugget : NO\n",
      "  - parameters lower bounds :  1e-10 \n",
      "  - parameters upper bounds :  263.7778 \n",
      "  - best initial criterion value(s) :  -365.117 \n",
      "\n",
      "N = 1, M = 5 machine precision = 2.22045e-16\n",
      "At X0, 0 variables are exactly at the bounds\n",
      "At iterate     0  f=       365.12  |proj g|=    0.0064836\n",
      "At iterate     1  f =       365.12  |proj g|=     0.0064831\n",
      "At iterate     2  f =       365.11  |proj g|=             0\n",
      "\n",
      "iterations 2\n",
      "function evaluations 3\n",
      "segments explored during Cauchy searches 2\n",
      "BFGS updates skipped 0\n",
      "active bounds at final generalized Cauchy point 1\n",
      "norm of the final projected gradient 0\n",
      "final function value 365.111\n",
      "\n",
      "F = 365.111\n",
      "final  value 365.111390 \n",
      "converged\n"
     ]
    },
    {
     "name": "stderr",
     "output_type": "stream",
     "text": [
      "[mbo] 23: x=4.09 : y = -1.62e+03 : 0.0 secs : infill_ei\n",
      "\n"
     ]
    },
    {
     "name": "stdout",
     "output_type": "stream",
     "text": [
      "\n",
      "optimisation start\n",
      "------------------\n",
      "* estimation method   : MLE \n",
      "* optimisation method : BFGS \n",
      "* analytical gradient : used\n",
      "* trend model : ~1\n",
      "* covariance model : \n",
      "  - type :  matern3_2 \n",
      "  - nugget : NO\n",
      "  - parameters lower bounds :  1e-10 \n",
      "  - parameters upper bounds :  263.7778 \n",
      "  - best initial criterion value(s) :  -376.8904 \n",
      "\n",
      "N = 1, M = 5 machine precision = 2.22045e-16\n",
      "At X0, 0 variables are exactly at the bounds\n",
      "At iterate     0  f=       376.89  |proj g|=    0.0079322\n",
      "At iterate     1  f =       376.89  |proj g|=     0.0079314\n",
      "At iterate     2  f =       376.81  |proj g|=             0\n",
      "\n",
      "iterations 2\n",
      "function evaluations 3\n",
      "segments explored during Cauchy searches 2\n",
      "BFGS updates skipped 0\n",
      "active bounds at final generalized Cauchy point 1\n",
      "norm of the final projected gradient 0\n",
      "final function value 376.815\n",
      "\n",
      "F = 376.815\n",
      "final  value 376.814963 \n",
      "converged\n"
     ]
    },
    {
     "name": "stderr",
     "output_type": "stream",
     "text": [
      "[mbo] 24: x=-10 : y = 3.82e+04 : 0.0 secs : infill_ei\n",
      "\n"
     ]
    },
    {
     "name": "stdout",
     "output_type": "stream",
     "text": [
      "\n",
      "optimisation start\n",
      "------------------\n",
      "* estimation method   : MLE \n",
      "* optimisation method : BFGS \n",
      "* analytical gradient : used\n",
      "* trend model : ~1\n",
      "* covariance model : \n",
      "  - type :  matern3_2 \n",
      "  - nugget : NO\n",
      "  - parameters lower bounds :  1e-10 \n",
      "  - parameters upper bounds :  263.7778 \n",
      "  - best initial criterion value(s) :  -387.5762 \n",
      "\n",
      "N = 1, M = 5 machine precision = 2.22045e-16\n",
      "At X0, 0 variables are exactly at the bounds\n",
      "At iterate     0  f=       387.58  |proj g|=    0.0087274\n",
      "At iterate     1  f =       387.58  |proj g|=     0.0087265\n",
      "At iterate     2  f =       387.49  |proj g|=             0\n",
      "\n",
      "iterations 2\n",
      "function evaluations 3\n",
      "segments explored during Cauchy searches 2\n",
      "BFGS updates skipped 0\n",
      "active bounds at final generalized Cauchy point 1\n",
      "norm of the final projected gradient 0\n",
      "final function value 387.485\n",
      "\n",
      "F = 387.485\n",
      "final  value 387.485316 \n",
      "converged\n"
     ]
    },
    {
     "name": "stderr",
     "output_type": "stream",
     "text": [
      "[mbo] 25: x=-4.63 : y = 3.51e+04 : 0.0 secs : infill_ei\n",
      "\n"
     ]
    },
    {
     "name": "stdout",
     "output_type": "stream",
     "text": [
      "\n",
      "optimisation start\n",
      "------------------\n",
      "* estimation method   : MLE \n",
      "* optimisation method : BFGS \n",
      "* analytical gradient : used\n",
      "* trend model : ~1\n",
      "* covariance model : \n",
      "  - type :  matern3_2 \n",
      "  - nugget : NO\n",
      "  - parameters lower bounds :  1e-10 \n",
      "  - parameters upper bounds :  263.7778 \n",
      "  - best initial criterion value(s) :  -398.1464 \n",
      "\n",
      "N = 1, M = 5 machine precision = 2.22045e-16\n",
      "At X0, 0 variables are exactly at the bounds\n",
      "At iterate     0  f=       398.15  |proj g|=    0.0087671\n",
      "At iterate     1  f =       398.15  |proj g|=     0.0087663\n",
      "At iterate     2  f =       398.11  |proj g|=             0\n",
      "\n",
      "iterations 2\n",
      "function evaluations 3\n",
      "segments explored during Cauchy searches 2\n",
      "BFGS updates skipped 0\n",
      "active bounds at final generalized Cauchy point 1\n",
      "norm of the final projected gradient 0\n",
      "final function value 398.108\n",
      "\n",
      "F = 398.108\n",
      "final  value 398.108184 \n",
      "converged\n"
     ]
    }
   ],
   "source": [
    "run  <- mbo( fun=      obj.fun, \n",
    "             learner= fproxy, \n",
    "             control= ctrl )"
   ]
  },
  {
   "cell_type": "code",
   "execution_count": 18,
   "metadata": {
    "tags": [],
    "vscode": {
     "languageId": "r"
    }
   },
   "outputs": [],
   "source": [
    "tb_resultados  <- as.data.table( run$opt.path )"
   ]
  },
  {
   "cell_type": "code",
   "execution_count": 19,
   "metadata": {
    "tags": [],
    "vscode": {
     "languageId": "r"
    }
   },
   "outputs": [
    {
     "data": {
      "text/html": [
       "<table class=\"dataframe\">\n",
       "<caption>A data.table: 29 × 13</caption>\n",
       "<thead>\n",
       "\t<tr><th scope=col>x</th><th scope=col>y</th><th scope=col>dob</th><th scope=col>eol</th><th scope=col>error.message</th><th scope=col>exec.time</th><th scope=col>ei</th><th scope=col>error.model</th><th scope=col>train.time</th><th scope=col>prop.type</th><th scope=col>propose.time</th><th scope=col>se</th><th scope=col>mean</th></tr>\n",
       "\t<tr><th scope=col>&lt;dbl&gt;</th><th scope=col>&lt;dbl&gt;</th><th scope=col>&lt;int&gt;</th><th scope=col>&lt;int&gt;</th><th scope=col>&lt;chr&gt;</th><th scope=col>&lt;dbl&gt;</th><th scope=col>&lt;dbl&gt;</th><th scope=col>&lt;chr&gt;</th><th scope=col>&lt;dbl&gt;</th><th scope=col>&lt;chr&gt;</th><th scope=col>&lt;dbl&gt;</th><th scope=col>&lt;dbl&gt;</th><th scope=col>&lt;dbl&gt;</th></tr>\n",
       "</thead>\n",
       "<tbody>\n",
       "\t<tr><td> 34.5649806</td><td> -1288335.927</td><td> 0</td><td>NA</td><td>NA</td><td>0.00</td><td>          NA</td><td>NA</td><td>  NA</td><td>initdesign</td><td>  NA</td><td>         NA</td><td>           NA</td></tr>\n",
       "\t<tr><td>-13.2593752</td><td>    -5512.445</td><td> 0</td><td>NA</td><td>NA</td><td>0.01</td><td>          NA</td><td>NA</td><td>  NA</td><td>initdesign</td><td>  NA</td><td>         NA</td><td>           NA</td></tr>\n",
       "\t<tr><td> 69.4979717</td><td>-34627530.774</td><td> 0</td><td>NA</td><td>NA</td><td>0.00</td><td>          NA</td><td>NA</td><td>  NA</td><td>initdesign</td><td>  NA</td><td>         NA</td><td>           NA</td></tr>\n",
       "\t<tr><td>-62.3909290</td><td>-36481560.429</td><td> 0</td><td>NA</td><td>NA</td><td>0.00</td><td>          NA</td><td>NA</td><td>  NA</td><td>initdesign</td><td>  NA</td><td>         NA</td><td>           NA</td></tr>\n",
       "\t<tr><td>-23.9284718</td><td>  -781456.905</td><td> 1</td><td>NA</td><td>NA</td><td>0.00</td><td>-1359468.656</td><td>NA</td><td>0.06</td><td>infill_ei </td><td>0.17</td><td>17472003.06</td><td>-1.810073e+07</td></tr>\n",
       "\t<tr><td> 17.2715924</td><td>    15339.869</td><td> 2</td><td>NA</td><td>NA</td><td>0.00</td><td>-3303718.016</td><td>NA</td><td>0.01</td><td>infill_ei </td><td>0.19</td><td>13526158.27</td><td>-4.885152e+06</td></tr>\n",
       "\t<tr><td>  2.2425007</td><td>     1841.011</td><td> 3</td><td>NA</td><td>NA</td><td>0.00</td><td>-1797001.251</td><td>NA</td><td>0.01</td><td>infill_ei </td><td>0.21</td><td> 5567863.35</td><td>-8.920314e+05</td></tr>\n",
       "\t<tr><td> 25.8433901</td><td>  -228843.202</td><td> 4</td><td>NA</td><td>NA</td><td>0.00</td><td> -956604.724</td><td>NA</td><td>0.02</td><td>infill_ei </td><td>0.26</td><td> 1839724.28</td><td> 4.245064e+05</td></tr>\n",
       "\t<tr><td>  9.6709108</td><td>     7536.726</td><td> 5</td><td>NA</td><td>NA</td><td>0.00</td><td> -461993.056</td><td>NA</td><td>0.01</td><td>infill_ei </td><td>0.18</td><td> 1083851.04</td><td> 7.330168e+04</td></tr>\n",
       "\t<tr><td> -5.4669972</td><td>    38910.793</td><td> 6</td><td>NA</td><td>NA</td><td>0.00</td><td> -334461.887</td><td>NA</td><td>0.02</td><td>infill_ei </td><td>0.17</td><td>  925228.86</td><td>-5.616574e+04</td></tr>\n",
       "\t<tr><td>-18.0715346</td><td>  -198649.296</td><td> 7</td><td>NA</td><td>NA</td><td>0.00</td><td> -196260.964</td><td>NA</td><td>0.03</td><td>infill_ei </td><td>0.24</td><td>  518142.07</td><td> 1.766776e+04</td></tr>\n",
       "\t<tr><td> -9.2133887</td><td>    42310.285</td><td> 8</td><td>NA</td><td>NA</td><td>0.00</td><td> -115618.550</td><td>NA</td><td>0.02</td><td>infill_ei </td><td>0.20</td><td>  274733.07</td><td> 5.073947e+04</td></tr>\n",
       "\t<tr><td> 13.5954991</td><td>    20089.208</td><td> 9</td><td>NA</td><td>NA</td><td>0.00</td><td>  -96127.809</td><td>NA</td><td>0.01</td><td>infill_ei </td><td>0.19</td><td>  256482.91</td><td> 2.967383e+04</td></tr>\n",
       "\t<tr><td> -1.6911310</td><td>    19080.390</td><td>10</td><td>NA</td><td>NA</td><td>0.00</td><td>  -79220.372</td><td>NA</td><td>0.01</td><td>infill_ei </td><td>0.17</td><td>  225363.48</td><td> 2.006142e+04</td></tr>\n",
       "\t<tr><td>  5.9910371</td><td>    -1491.140</td><td>11</td><td>NA</td><td>NA</td><td>0.00</td><td>  -57576.282</td><td>NA</td><td>0.01</td><td>infill_ei </td><td>0.19</td><td>  193105.13</td><td>-3.588803e+02</td></tr>\n",
       "\t<tr><td> 20.8062435</td><td>   -30022.790</td><td>12</td><td>NA</td><td>NA</td><td>0.00</td><td>  -47942.102</td><td>NA</td><td>0.03</td><td>infill_ei </td><td>0.19</td><td>  223767.22</td><td>-5.798578e+04</td></tr>\n",
       "\t<tr><td> -7.3745113</td><td>    44252.255</td><td>13</td><td>NA</td><td>NA</td><td>0.00</td><td>  -28528.631</td><td>NA</td><td>0.01</td><td>infill_ei </td><td>0.27</td><td>   69893.24</td><td> 4.359144e+04</td></tr>\n",
       "\t<tr><td>-11.0601105</td><td>    29614.657</td><td>14</td><td>NA</td><td>NA</td><td>0.00</td><td>  -22390.478</td><td>NA</td><td>0.02</td><td>infill_ei </td><td>0.20</td><td>   70394.24</td><td> 3.202102e+04</td></tr>\n",
       "\t<tr><td> -3.6656341</td><td>    30082.286</td><td>15</td><td>NA</td><td>NA</td><td>0.00</td><td>  -18370.684</td><td>NA</td><td>0.01</td><td>infill_ei </td><td>0.22</td><td>   62152.87</td><td> 3.012774e+04</td></tr>\n",
       "\t<tr><td> 11.7152449</td><td>    14797.683</td><td>16</td><td>NA</td><td>NA</td><td>0.00</td><td>  -14723.078</td><td>NA</td><td>0.01</td><td>infill_ei </td><td>0.27</td><td>   67268.38</td><td> 1.504475e+04</td></tr>\n",
       "\t<tr><td> 15.4577795</td><td>    21242.401</td><td>17</td><td>NA</td><td>NA</td><td>0.00</td><td>  -12816.580</td><td>NA</td><td>0.01</td><td>infill_ei </td><td>0.22</td><td>   56909.83</td><td> 2.061739e+04</td></tr>\n",
       "\t<tr><td>  0.2267257</td><td>     9328.544</td><td>18</td><td>NA</td><td>NA</td><td>0.00</td><td>  -10741.003</td><td>NA</td><td>0.03</td><td>infill_ei </td><td>0.31</td><td>   60917.99</td><td> 9.371905e+03</td></tr>\n",
       "\t<tr><td> -8.2706803</td><td>    44394.908</td><td>19</td><td>NA</td><td>NA</td><td>0.00</td><td>   -8232.317</td><td>NA</td><td>0.01</td><td>infill_ei </td><td>0.22</td><td>   20383.20</td><td> 4.445266e+04</td></tr>\n",
       "\t<tr><td> -6.4578687</td><td>    42397.560</td><td>20</td><td>NA</td><td>NA</td><td>0.00</td><td>   -6836.923</td><td>NA</td><td>0.03</td><td>infill_ei </td><td>0.22</td><td>   19531.73</td><td> 4.240378e+04</td></tr>\n",
       "\t<tr><td>  7.8363832</td><td>     1881.842</td><td>21</td><td>NA</td><td>NA</td><td>0.00</td><td>   -6128.927</td><td>NA</td><td>0.01</td><td>infill_ei </td><td>0.29</td><td>   52224.14</td><td> 1.906713e+03</td></tr>\n",
       "\t<tr><td> 18.9010411</td><td>     1194.813</td><td>22</td><td>NA</td><td>NA</td><td>0.00</td><td>   -5425.454</td><td>NA</td><td>0.03</td><td>infill_ei </td><td>0.22</td><td>   48690.64</td><td> 3.364518e+03</td></tr>\n",
       "\t<tr><td>  4.0905954</td><td>    -1617.020</td><td>23</td><td>NA</td><td>NA</td><td>0.00</td><td>   -4517.941</td><td>NA</td><td>0.01</td><td>infill_ei </td><td>0.22</td><td>   48733.81</td><td>-1.575979e+03</td></tr>\n",
       "\t<tr><td>-10.0384943</td><td>    38209.849</td><td>24</td><td>NA</td><td>NA</td><td>0.00</td><td>   -4195.423</td><td>NA</td><td>0.01</td><td>infill_ei </td><td>0.30</td><td>   17335.43</td><td> 3.803296e+04</td></tr>\n",
       "\t<tr><td> -4.6289471</td><td>    35096.148</td><td>25</td><td>NA</td><td>NA</td><td>0.00</td><td>   -2961.311</td><td>NA</td><td>0.01</td><td>infill_ei </td><td>0.22</td><td>   16527.05</td><td> 3.509766e+04</td></tr>\n",
       "</tbody>\n",
       "</table>\n"
      ],
      "text/latex": [
       "A data.table: 29 × 13\n",
       "\\begin{tabular}{lllllllllllll}\n",
       " x & y & dob & eol & error.message & exec.time & ei & error.model & train.time & prop.type & propose.time & se & mean\\\\\n",
       " <dbl> & <dbl> & <int> & <int> & <chr> & <dbl> & <dbl> & <chr> & <dbl> & <chr> & <dbl> & <dbl> & <dbl>\\\\\n",
       "\\hline\n",
       "\t  34.5649806 &  -1288335.927 &  0 & NA & NA & 0.00 &           NA & NA &   NA & initdesign &   NA &          NA &            NA\\\\\n",
       "\t -13.2593752 &     -5512.445 &  0 & NA & NA & 0.01 &           NA & NA &   NA & initdesign &   NA &          NA &            NA\\\\\n",
       "\t  69.4979717 & -34627530.774 &  0 & NA & NA & 0.00 &           NA & NA &   NA & initdesign &   NA &          NA &            NA\\\\\n",
       "\t -62.3909290 & -36481560.429 &  0 & NA & NA & 0.00 &           NA & NA &   NA & initdesign &   NA &          NA &            NA\\\\\n",
       "\t -23.9284718 &   -781456.905 &  1 & NA & NA & 0.00 & -1359468.656 & NA & 0.06 & infill\\_ei  & 0.17 & 17472003.06 & -1.810073e+07\\\\\n",
       "\t  17.2715924 &     15339.869 &  2 & NA & NA & 0.00 & -3303718.016 & NA & 0.01 & infill\\_ei  & 0.19 & 13526158.27 & -4.885152e+06\\\\\n",
       "\t   2.2425007 &      1841.011 &  3 & NA & NA & 0.00 & -1797001.251 & NA & 0.01 & infill\\_ei  & 0.21 &  5567863.35 & -8.920314e+05\\\\\n",
       "\t  25.8433901 &   -228843.202 &  4 & NA & NA & 0.00 &  -956604.724 & NA & 0.02 & infill\\_ei  & 0.26 &  1839724.28 &  4.245064e+05\\\\\n",
       "\t   9.6709108 &      7536.726 &  5 & NA & NA & 0.00 &  -461993.056 & NA & 0.01 & infill\\_ei  & 0.18 &  1083851.04 &  7.330168e+04\\\\\n",
       "\t  -5.4669972 &     38910.793 &  6 & NA & NA & 0.00 &  -334461.887 & NA & 0.02 & infill\\_ei  & 0.17 &   925228.86 & -5.616574e+04\\\\\n",
       "\t -18.0715346 &   -198649.296 &  7 & NA & NA & 0.00 &  -196260.964 & NA & 0.03 & infill\\_ei  & 0.24 &   518142.07 &  1.766776e+04\\\\\n",
       "\t  -9.2133887 &     42310.285 &  8 & NA & NA & 0.00 &  -115618.550 & NA & 0.02 & infill\\_ei  & 0.20 &   274733.07 &  5.073947e+04\\\\\n",
       "\t  13.5954991 &     20089.208 &  9 & NA & NA & 0.00 &   -96127.809 & NA & 0.01 & infill\\_ei  & 0.19 &   256482.91 &  2.967383e+04\\\\\n",
       "\t  -1.6911310 &     19080.390 & 10 & NA & NA & 0.00 &   -79220.372 & NA & 0.01 & infill\\_ei  & 0.17 &   225363.48 &  2.006142e+04\\\\\n",
       "\t   5.9910371 &     -1491.140 & 11 & NA & NA & 0.00 &   -57576.282 & NA & 0.01 & infill\\_ei  & 0.19 &   193105.13 & -3.588803e+02\\\\\n",
       "\t  20.8062435 &    -30022.790 & 12 & NA & NA & 0.00 &   -47942.102 & NA & 0.03 & infill\\_ei  & 0.19 &   223767.22 & -5.798578e+04\\\\\n",
       "\t  -7.3745113 &     44252.255 & 13 & NA & NA & 0.00 &   -28528.631 & NA & 0.01 & infill\\_ei  & 0.27 &    69893.24 &  4.359144e+04\\\\\n",
       "\t -11.0601105 &     29614.657 & 14 & NA & NA & 0.00 &   -22390.478 & NA & 0.02 & infill\\_ei  & 0.20 &    70394.24 &  3.202102e+04\\\\\n",
       "\t  -3.6656341 &     30082.286 & 15 & NA & NA & 0.00 &   -18370.684 & NA & 0.01 & infill\\_ei  & 0.22 &    62152.87 &  3.012774e+04\\\\\n",
       "\t  11.7152449 &     14797.683 & 16 & NA & NA & 0.00 &   -14723.078 & NA & 0.01 & infill\\_ei  & 0.27 &    67268.38 &  1.504475e+04\\\\\n",
       "\t  15.4577795 &     21242.401 & 17 & NA & NA & 0.00 &   -12816.580 & NA & 0.01 & infill\\_ei  & 0.22 &    56909.83 &  2.061739e+04\\\\\n",
       "\t   0.2267257 &      9328.544 & 18 & NA & NA & 0.00 &   -10741.003 & NA & 0.03 & infill\\_ei  & 0.31 &    60917.99 &  9.371905e+03\\\\\n",
       "\t  -8.2706803 &     44394.908 & 19 & NA & NA & 0.00 &    -8232.317 & NA & 0.01 & infill\\_ei  & 0.22 &    20383.20 &  4.445266e+04\\\\\n",
       "\t  -6.4578687 &     42397.560 & 20 & NA & NA & 0.00 &    -6836.923 & NA & 0.03 & infill\\_ei  & 0.22 &    19531.73 &  4.240378e+04\\\\\n",
       "\t   7.8363832 &      1881.842 & 21 & NA & NA & 0.00 &    -6128.927 & NA & 0.01 & infill\\_ei  & 0.29 &    52224.14 &  1.906713e+03\\\\\n",
       "\t  18.9010411 &      1194.813 & 22 & NA & NA & 0.00 &    -5425.454 & NA & 0.03 & infill\\_ei  & 0.22 &    48690.64 &  3.364518e+03\\\\\n",
       "\t   4.0905954 &     -1617.020 & 23 & NA & NA & 0.00 &    -4517.941 & NA & 0.01 & infill\\_ei  & 0.22 &    48733.81 & -1.575979e+03\\\\\n",
       "\t -10.0384943 &     38209.849 & 24 & NA & NA & 0.00 &    -4195.423 & NA & 0.01 & infill\\_ei  & 0.30 &    17335.43 &  3.803296e+04\\\\\n",
       "\t  -4.6289471 &     35096.148 & 25 & NA & NA & 0.00 &    -2961.311 & NA & 0.01 & infill\\_ei  & 0.22 &    16527.05 &  3.509766e+04\\\\\n",
       "\\end{tabular}\n"
      ],
      "text/markdown": [
       "\n",
       "A data.table: 29 × 13\n",
       "\n",
       "| x &lt;dbl&gt; | y &lt;dbl&gt; | dob &lt;int&gt; | eol &lt;int&gt; | error.message &lt;chr&gt; | exec.time &lt;dbl&gt; | ei &lt;dbl&gt; | error.model &lt;chr&gt; | train.time &lt;dbl&gt; | prop.type &lt;chr&gt; | propose.time &lt;dbl&gt; | se &lt;dbl&gt; | mean &lt;dbl&gt; |\n",
       "|---|---|---|---|---|---|---|---|---|---|---|---|---|\n",
       "|  34.5649806 |  -1288335.927 |  0 | NA | NA | 0.00 |           NA | NA |   NA | initdesign |   NA |          NA |            NA |\n",
       "| -13.2593752 |     -5512.445 |  0 | NA | NA | 0.01 |           NA | NA |   NA | initdesign |   NA |          NA |            NA |\n",
       "|  69.4979717 | -34627530.774 |  0 | NA | NA | 0.00 |           NA | NA |   NA | initdesign |   NA |          NA |            NA |\n",
       "| -62.3909290 | -36481560.429 |  0 | NA | NA | 0.00 |           NA | NA |   NA | initdesign |   NA |          NA |            NA |\n",
       "| -23.9284718 |   -781456.905 |  1 | NA | NA | 0.00 | -1359468.656 | NA | 0.06 | infill_ei  | 0.17 | 17472003.06 | -1.810073e+07 |\n",
       "|  17.2715924 |     15339.869 |  2 | NA | NA | 0.00 | -3303718.016 | NA | 0.01 | infill_ei  | 0.19 | 13526158.27 | -4.885152e+06 |\n",
       "|   2.2425007 |      1841.011 |  3 | NA | NA | 0.00 | -1797001.251 | NA | 0.01 | infill_ei  | 0.21 |  5567863.35 | -8.920314e+05 |\n",
       "|  25.8433901 |   -228843.202 |  4 | NA | NA | 0.00 |  -956604.724 | NA | 0.02 | infill_ei  | 0.26 |  1839724.28 |  4.245064e+05 |\n",
       "|   9.6709108 |      7536.726 |  5 | NA | NA | 0.00 |  -461993.056 | NA | 0.01 | infill_ei  | 0.18 |  1083851.04 |  7.330168e+04 |\n",
       "|  -5.4669972 |     38910.793 |  6 | NA | NA | 0.00 |  -334461.887 | NA | 0.02 | infill_ei  | 0.17 |   925228.86 | -5.616574e+04 |\n",
       "| -18.0715346 |   -198649.296 |  7 | NA | NA | 0.00 |  -196260.964 | NA | 0.03 | infill_ei  | 0.24 |   518142.07 |  1.766776e+04 |\n",
       "|  -9.2133887 |     42310.285 |  8 | NA | NA | 0.00 |  -115618.550 | NA | 0.02 | infill_ei  | 0.20 |   274733.07 |  5.073947e+04 |\n",
       "|  13.5954991 |     20089.208 |  9 | NA | NA | 0.00 |   -96127.809 | NA | 0.01 | infill_ei  | 0.19 |   256482.91 |  2.967383e+04 |\n",
       "|  -1.6911310 |     19080.390 | 10 | NA | NA | 0.00 |   -79220.372 | NA | 0.01 | infill_ei  | 0.17 |   225363.48 |  2.006142e+04 |\n",
       "|   5.9910371 |     -1491.140 | 11 | NA | NA | 0.00 |   -57576.282 | NA | 0.01 | infill_ei  | 0.19 |   193105.13 | -3.588803e+02 |\n",
       "|  20.8062435 |    -30022.790 | 12 | NA | NA | 0.00 |   -47942.102 | NA | 0.03 | infill_ei  | 0.19 |   223767.22 | -5.798578e+04 |\n",
       "|  -7.3745113 |     44252.255 | 13 | NA | NA | 0.00 |   -28528.631 | NA | 0.01 | infill_ei  | 0.27 |    69893.24 |  4.359144e+04 |\n",
       "| -11.0601105 |     29614.657 | 14 | NA | NA | 0.00 |   -22390.478 | NA | 0.02 | infill_ei  | 0.20 |    70394.24 |  3.202102e+04 |\n",
       "|  -3.6656341 |     30082.286 | 15 | NA | NA | 0.00 |   -18370.684 | NA | 0.01 | infill_ei  | 0.22 |    62152.87 |  3.012774e+04 |\n",
       "|  11.7152449 |     14797.683 | 16 | NA | NA | 0.00 |   -14723.078 | NA | 0.01 | infill_ei  | 0.27 |    67268.38 |  1.504475e+04 |\n",
       "|  15.4577795 |     21242.401 | 17 | NA | NA | 0.00 |   -12816.580 | NA | 0.01 | infill_ei  | 0.22 |    56909.83 |  2.061739e+04 |\n",
       "|   0.2267257 |      9328.544 | 18 | NA | NA | 0.00 |   -10741.003 | NA | 0.03 | infill_ei  | 0.31 |    60917.99 |  9.371905e+03 |\n",
       "|  -8.2706803 |     44394.908 | 19 | NA | NA | 0.00 |    -8232.317 | NA | 0.01 | infill_ei  | 0.22 |    20383.20 |  4.445266e+04 |\n",
       "|  -6.4578687 |     42397.560 | 20 | NA | NA | 0.00 |    -6836.923 | NA | 0.03 | infill_ei  | 0.22 |    19531.73 |  4.240378e+04 |\n",
       "|   7.8363832 |      1881.842 | 21 | NA | NA | 0.00 |    -6128.927 | NA | 0.01 | infill_ei  | 0.29 |    52224.14 |  1.906713e+03 |\n",
       "|  18.9010411 |      1194.813 | 22 | NA | NA | 0.00 |    -5425.454 | NA | 0.03 | infill_ei  | 0.22 |    48690.64 |  3.364518e+03 |\n",
       "|   4.0905954 |     -1617.020 | 23 | NA | NA | 0.00 |    -4517.941 | NA | 0.01 | infill_ei  | 0.22 |    48733.81 | -1.575979e+03 |\n",
       "| -10.0384943 |     38209.849 | 24 | NA | NA | 0.00 |    -4195.423 | NA | 0.01 | infill_ei  | 0.30 |    17335.43 |  3.803296e+04 |\n",
       "|  -4.6289471 |     35096.148 | 25 | NA | NA | 0.00 |    -2961.311 | NA | 0.01 | infill_ei  | 0.22 |    16527.05 |  3.509766e+04 |\n",
       "\n"
      ],
      "text/plain": [
       "   x           y             dob eol error.message exec.time ei          \n",
       "1   34.5649806  -1288335.927  0  NA  NA            0.00                NA\n",
       "2  -13.2593752     -5512.445  0  NA  NA            0.01                NA\n",
       "3   69.4979717 -34627530.774  0  NA  NA            0.00                NA\n",
       "4  -62.3909290 -36481560.429  0  NA  NA            0.00                NA\n",
       "5  -23.9284718   -781456.905  1  NA  NA            0.00      -1359468.656\n",
       "6   17.2715924     15339.869  2  NA  NA            0.00      -3303718.016\n",
       "7    2.2425007      1841.011  3  NA  NA            0.00      -1797001.251\n",
       "8   25.8433901   -228843.202  4  NA  NA            0.00       -956604.724\n",
       "9    9.6709108      7536.726  5  NA  NA            0.00       -461993.056\n",
       "10  -5.4669972     38910.793  6  NA  NA            0.00       -334461.887\n",
       "11 -18.0715346   -198649.296  7  NA  NA            0.00       -196260.964\n",
       "12  -9.2133887     42310.285  8  NA  NA            0.00       -115618.550\n",
       "13  13.5954991     20089.208  9  NA  NA            0.00        -96127.809\n",
       "14  -1.6911310     19080.390 10  NA  NA            0.00        -79220.372\n",
       "15   5.9910371     -1491.140 11  NA  NA            0.00        -57576.282\n",
       "16  20.8062435    -30022.790 12  NA  NA            0.00        -47942.102\n",
       "17  -7.3745113     44252.255 13  NA  NA            0.00        -28528.631\n",
       "18 -11.0601105     29614.657 14  NA  NA            0.00        -22390.478\n",
       "19  -3.6656341     30082.286 15  NA  NA            0.00        -18370.684\n",
       "20  11.7152449     14797.683 16  NA  NA            0.00        -14723.078\n",
       "21  15.4577795     21242.401 17  NA  NA            0.00        -12816.580\n",
       "22   0.2267257      9328.544 18  NA  NA            0.00        -10741.003\n",
       "23  -8.2706803     44394.908 19  NA  NA            0.00         -8232.317\n",
       "24  -6.4578687     42397.560 20  NA  NA            0.00         -6836.923\n",
       "25   7.8363832      1881.842 21  NA  NA            0.00         -6128.927\n",
       "26  18.9010411      1194.813 22  NA  NA            0.00         -5425.454\n",
       "27   4.0905954     -1617.020 23  NA  NA            0.00         -4517.941\n",
       "28 -10.0384943     38209.849 24  NA  NA            0.00         -4195.423\n",
       "29  -4.6289471     35096.148 25  NA  NA            0.00         -2961.311\n",
       "   error.model train.time prop.type  propose.time se          mean         \n",
       "1  NA            NA       initdesign   NA                  NA            NA\n",
       "2  NA            NA       initdesign   NA                  NA            NA\n",
       "3  NA            NA       initdesign   NA                  NA            NA\n",
       "4  NA            NA       initdesign   NA                  NA            NA\n",
       "5  NA          0.06       infill_ei  0.17         17472003.06 -1.810073e+07\n",
       "6  NA          0.01       infill_ei  0.19         13526158.27 -4.885152e+06\n",
       "7  NA          0.01       infill_ei  0.21          5567863.35 -8.920314e+05\n",
       "8  NA          0.02       infill_ei  0.26          1839724.28  4.245064e+05\n",
       "9  NA          0.01       infill_ei  0.18          1083851.04  7.330168e+04\n",
       "10 NA          0.02       infill_ei  0.17           925228.86 -5.616574e+04\n",
       "11 NA          0.03       infill_ei  0.24           518142.07  1.766776e+04\n",
       "12 NA          0.02       infill_ei  0.20           274733.07  5.073947e+04\n",
       "13 NA          0.01       infill_ei  0.19           256482.91  2.967383e+04\n",
       "14 NA          0.01       infill_ei  0.17           225363.48  2.006142e+04\n",
       "15 NA          0.01       infill_ei  0.19           193105.13 -3.588803e+02\n",
       "16 NA          0.03       infill_ei  0.19           223767.22 -5.798578e+04\n",
       "17 NA          0.01       infill_ei  0.27            69893.24  4.359144e+04\n",
       "18 NA          0.02       infill_ei  0.20            70394.24  3.202102e+04\n",
       "19 NA          0.01       infill_ei  0.22            62152.87  3.012774e+04\n",
       "20 NA          0.01       infill_ei  0.27            67268.38  1.504475e+04\n",
       "21 NA          0.01       infill_ei  0.22            56909.83  2.061739e+04\n",
       "22 NA          0.03       infill_ei  0.31            60917.99  9.371905e+03\n",
       "23 NA          0.01       infill_ei  0.22            20383.20  4.445266e+04\n",
       "24 NA          0.03       infill_ei  0.22            19531.73  4.240378e+04\n",
       "25 NA          0.01       infill_ei  0.29            52224.14  1.906713e+03\n",
       "26 NA          0.03       infill_ei  0.22            48690.64  3.364518e+03\n",
       "27 NA          0.01       infill_ei  0.22            48733.81 -1.575979e+03\n",
       "28 NA          0.01       infill_ei  0.30            17335.43  3.803296e+04\n",
       "29 NA          0.01       infill_ei  0.22            16527.05  3.509766e+04"
      ]
     },
     "metadata": {},
     "output_type": "display_data"
    }
   ],
   "source": [
    "tb_resultados"
   ]
  },
  {
   "cell_type": "code",
   "execution_count": 20,
   "metadata": {
    "tags": [],
    "vscode": {
     "languageId": "r"
    }
   },
   "outputs": [
    {
     "data": {
      "text/html": [
       "<table class=\"dataframe\">\n",
       "<caption>A data.table: 1 × 13</caption>\n",
       "<thead>\n",
       "\t<tr><th scope=col>x</th><th scope=col>y</th><th scope=col>dob</th><th scope=col>eol</th><th scope=col>error.message</th><th scope=col>exec.time</th><th scope=col>ei</th><th scope=col>error.model</th><th scope=col>train.time</th><th scope=col>prop.type</th><th scope=col>propose.time</th><th scope=col>se</th><th scope=col>mean</th></tr>\n",
       "\t<tr><th scope=col>&lt;dbl&gt;</th><th scope=col>&lt;dbl&gt;</th><th scope=col>&lt;int&gt;</th><th scope=col>&lt;int&gt;</th><th scope=col>&lt;chr&gt;</th><th scope=col>&lt;dbl&gt;</th><th scope=col>&lt;dbl&gt;</th><th scope=col>&lt;chr&gt;</th><th scope=col>&lt;dbl&gt;</th><th scope=col>&lt;chr&gt;</th><th scope=col>&lt;dbl&gt;</th><th scope=col>&lt;dbl&gt;</th><th scope=col>&lt;dbl&gt;</th></tr>\n",
       "</thead>\n",
       "<tbody>\n",
       "\t<tr><td>-8.27068</td><td>44394.91</td><td>19</td><td>NA</td><td>NA</td><td>0</td><td>-8232.317</td><td>NA</td><td>0.01</td><td>infill_ei</td><td>0.22</td><td>20383.2</td><td>44452.66</td></tr>\n",
       "</tbody>\n",
       "</table>\n"
      ],
      "text/latex": [
       "A data.table: 1 × 13\n",
       "\\begin{tabular}{lllllllllllll}\n",
       " x & y & dob & eol & error.message & exec.time & ei & error.model & train.time & prop.type & propose.time & se & mean\\\\\n",
       " <dbl> & <dbl> & <int> & <int> & <chr> & <dbl> & <dbl> & <chr> & <dbl> & <chr> & <dbl> & <dbl> & <dbl>\\\\\n",
       "\\hline\n",
       "\t -8.27068 & 44394.91 & 19 & NA & NA & 0 & -8232.317 & NA & 0.01 & infill\\_ei & 0.22 & 20383.2 & 44452.66\\\\\n",
       "\\end{tabular}\n"
      ],
      "text/markdown": [
       "\n",
       "A data.table: 1 × 13\n",
       "\n",
       "| x &lt;dbl&gt; | y &lt;dbl&gt; | dob &lt;int&gt; | eol &lt;int&gt; | error.message &lt;chr&gt; | exec.time &lt;dbl&gt; | ei &lt;dbl&gt; | error.model &lt;chr&gt; | train.time &lt;dbl&gt; | prop.type &lt;chr&gt; | propose.time &lt;dbl&gt; | se &lt;dbl&gt; | mean &lt;dbl&gt; |\n",
       "|---|---|---|---|---|---|---|---|---|---|---|---|---|\n",
       "| -8.27068 | 44394.91 | 19 | NA | NA | 0 | -8232.317 | NA | 0.01 | infill_ei | 0.22 | 20383.2 | 44452.66 |\n",
       "\n"
      ],
      "text/plain": [
       "  x        y        dob eol error.message exec.time ei        error.model\n",
       "1 -8.27068 44394.91 19  NA  NA            0         -8232.317 NA         \n",
       "  train.time prop.type propose.time se      mean    \n",
       "1 0.01       infill_ei 0.22         20383.2 44452.66"
      ]
     },
     "metadata": {},
     "output_type": "display_data"
    }
   ],
   "source": [
    "tb_resultados[ which.max( tb_resultados$y ) ]"
   ]
  },
  {
   "cell_type": "markdown",
   "metadata": {},
   "source": [
    "### Conclusiones"
   ]
  },
  {
   "cell_type": "markdown",
   "metadata": {},
   "source": [
    "La gran pregunta es :  la Optimización Bayesiana, ¿se focaliza luego de muchas iteraciones solo en el entorno del máximo que está cerca de x= -8 ?"
   ]
  }
 ],
 "metadata": {
  "kernelspec": {
   "display_name": "R",
   "language": "R",
   "name": "ir"
  },
  "language_info": {
   "codemirror_mode": "r",
   "file_extension": ".r",
   "mimetype": "text/x-r-source",
   "name": "R",
   "pygments_lexer": "r",
   "version": "4.2.1"
  }
 },
 "nbformat": 4,
 "nbformat_minor": 4
}
